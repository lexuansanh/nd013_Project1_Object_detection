{
 "cells": [
  {
   "cell_type": "markdown",
   "id": "87f6e80d",
   "metadata": {},
   "source": [
    "### Summary model investigation"
   ]
  },
  {
   "cell_type": "markdown",
   "id": "62e4cc72",
   "metadata": {},
   "source": [
    "I investigated on 3 models\n",
    "- EfficientDet D1 640x640\n",
    "- SSD ResNet50 V1 FPN 640x640 (RetinaNet50)\n",
    "- Faster R-CNN ResNet152 V1 640x640\n"
   ]
  },
  {
   "cell_type": "markdown",
   "id": "763ce905",
   "metadata": {},
   "source": [
    "Due to limited resources and issues related to libraries and instances, I cannot obtain results on the eval sets.\n",
    "Tensorboard cannot log test results on eval set. Therefore I cannot get mAP for each model.\n",
    "\n",
    "However, I still use tensorboard to evaluate my testing models through total loss and have the following results.\n",
    "\n",
    "<img src=\"total_loss.png\" alt=\"Total Loss\" />\n",
    "\n",
    "- In the first 200 steps, the results of the EfficientDet model are the best.\n",
    "\n",
    "Because the classes the model predicts include 'vehicle', 'pedestrian' and\n",
    "'cyclist' is present in the coco 2017 dataset. So the baseline mAP data of the 3 models I use on the coco 2017 dataset is the basis for deciding on the model to use for deployment.\n",
    "\n",
    "<img src=\"map.png\" alt=\"MAP\" />\n",
    "\n",
    "- Inference speed is also an important criterion for self driving cars. Faster processing speed helps the system make more timely and accurate decisions.\n",
    "The difference between EfficientDet D1 640x640 and SSD ResNet50 V1 FPN 640x640 (RetinaNet50) is not too high in terms of processing speed.\n",
    "Clearly EfficientDet D1 640x640 is the best choice for deployment because:\n",
    "    - Having mAP on COCO 2017 is the highest.\n",
    "    - Has fast prediction speed\n",
    "    - Has the lowest Total loss result in the first 200 steps.\n",
    "\n",
    "Therefore, I continue to train this EfficientDet model to 1000 epochs to obtain a more optimal loss.\n",
    "\n",
    "Finally, use this model to deploy and run inference for the video."
   ]
  },
  {
   "cell_type": "markdown",
   "id": "64825dea",
   "metadata": {},
   "source": [
    "Although it is not possible to have eval data to compare validation loss with training loss, I can make a preliminary assessment that with data not used for training, the validation loss result will usually be higher than the training loss. This makes sense because it is model data that has never been seen before. Sometimes there are cases where validation loss is lower than train loss. If the data in the training set is large enough to cover all the data in the validation set\n",
    "\n",
    "During the training process, validation loss and training loss fluctuate up and down with each steps. This is true because we are training in batches. Therefore, the model needs more training times to fit the dataset. Overall, validation loss and training loss tend to decrease.\n",
    "    \n",
    "I expect the loss values during the training process to gradually decrease over each epoch and achieve optimal results on both train and eval data sets.\n",
    "For the mAP metric, I expect mAP to increase after each epoch. This proves that the model is learning very well\n",
    "\n",
    "To improve the performance of tested models we can:\n",
    "- Increase the number of training steps because the model still tends to learn from data\n",
    "- Apply hyperparameter tuning to select the best hyperparameters for the model\n",
    "- Apply Data augmentation to data to help the model capture more aspects of the data. thereby helping to improve model performance\n",
    "- Use a larger input shape instead of 640x640. This will help the CNN network learn information on images in more detail. Improved mAP for small objects\n",
    "- Training with larger batch sizes helps to generalize the model better and improve training performance.\n",
    "- ONNX or TensorRT techniques can be applied in the inference process to speed up the prediction process."
   ]
  },
  {
   "cell_type": "markdown",
   "id": "317ebc83",
   "metadata": {},
   "source": []
  }
 ],
 "metadata": {
  "kernelspec": {
   "display_name": "Python 3 (ipykernel)",
   "language": "python",
   "name": "python3"
  },
  "language_info": {
   "codemirror_mode": {
    "name": "ipython",
    "version": 3
   },
   "file_extension": ".py",
   "mimetype": "text/x-python",
   "name": "python",
   "nbconvert_exporter": "python",
   "pygments_lexer": "ipython3",
   "version": "3.11.3"
  }
 },
 "nbformat": 4,
 "nbformat_minor": 5
}
