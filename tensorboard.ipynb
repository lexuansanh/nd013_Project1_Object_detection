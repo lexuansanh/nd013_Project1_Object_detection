{
 "cells": [
  {
   "cell_type": "code",
   "execution_count": 1,
   "id": "f94e62d5-6ea7-47d8-9a33-5992ea02f4d4",
   "metadata": {},
   "outputs": [],
   "source": [
    "import tensorflow as tf\n",
    "from tensorflow.keras.callbacks import TensorBoard"
   ]
  },
  {
   "cell_type": "code",
   "execution_count": 2,
   "id": "b8a9bb9e-c10e-4218-a5ad-ccae554ad99b",
   "metadata": {},
   "outputs": [],
   "source": [
    "%load_ext tensorboard"
   ]
  },
  {
   "cell_type": "code",
   "execution_count": 29,
   "id": "6406892e-8bfd-47df-b0d2-63aad6ad6d9d",
   "metadata": {},
   "outputs": [
    {
     "data": {
      "text/html": [
       "\n",
       "      <iframe id=\"tensorboard-frame-c26e2188c052f52e\" width=\"100%\" height=\"800\" frameborder=\"0\">\n",
       "      </iframe>\n",
       "      <script>\n",
       "        (function() {\n",
       "          const frame = document.getElementById(\"tensorboard-frame-c26e2188c052f52e\");\n",
       "          const url = new URL(\"/\", window.location);\n",
       "          const port = 6006;\n",
       "          if (port) {\n",
       "            url.port = port;\n",
       "          }\n",
       "          frame.src = url;\n",
       "        })();\n",
       "      </script>\n",
       "    "
      ],
      "text/plain": [
       "<IPython.core.display.HTML object>"
      ]
     },
     "metadata": {},
     "output_type": "display_data"
    }
   ],
   "source": [
    "%tensorboard --logdir_spec=Efficient_model:/Users/sanhlx/Personal/Self_driving_car/1_model_training/Efficient_model/logs,Faster_RCNN_model:/Users/sanhlx/Personal/Self_driving_car/1_model_training/Faster_RCNN_model/logs,SSD_Resnet_model:/Users/sanhlx/Personal/Self_driving_car/1_model_training/SSD_Resnet_model/logs"
   ]
  },
  {
   "cell_type": "code",
   "execution_count": 30,
   "id": "10285655-db7d-4a7d-806f-e20d40d71297",
   "metadata": {},
   "outputs": [],
   "source": [
    "!kill -9 $(lsof -t -i:6006)"
   ]
  },
  {
   "cell_type": "code",
   "execution_count": null,
   "id": "9d53cad7-353b-41aa-9928-7577b258350e",
   "metadata": {},
   "outputs": [],
   "source": []
  }
 ],
 "metadata": {
  "kernelspec": {
   "display_name": "Python 3 (ipykernel)",
   "language": "python",
   "name": "python3"
  },
  "language_info": {
   "codemirror_mode": {
    "name": "ipython",
    "version": 3
   },
   "file_extension": ".py",
   "mimetype": "text/x-python",
   "name": "python",
   "nbconvert_exporter": "python",
   "pygments_lexer": "ipython3",
   "version": "3.11.6"
  }
 },
 "nbformat": 4,
 "nbformat_minor": 5
}
